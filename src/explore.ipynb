{
    "cells": [
        {
            "cell_type": "markdown",
            "metadata": {},
            "source": [
                "# Explore here"
            ]
        },
        {
            "cell_type": "code",
            "execution_count": 17,
            "metadata": {},
            "outputs": [],
            "source": [
                "import pandas as pd\n",
                "\n",
                "df = pd.read_csv('../data/raw/ds_salaries.csv')"
            ]
        },
        {
            "cell_type": "code",
            "execution_count": 18,
            "metadata": {},
            "outputs": [
                {
                    "data": {
                        "text/html": [
                            "<div>\n",
                            "<style scoped>\n",
                            "    .dataframe tbody tr th:only-of-type {\n",
                            "        vertical-align: middle;\n",
                            "    }\n",
                            "\n",
                            "    .dataframe tbody tr th {\n",
                            "        vertical-align: top;\n",
                            "    }\n",
                            "\n",
                            "    .dataframe thead th {\n",
                            "        text-align: right;\n",
                            "    }\n",
                            "</style>\n",
                            "<table border=\"1\" class=\"dataframe\">\n",
                            "  <thead>\n",
                            "    <tr style=\"text-align: right;\">\n",
                            "      <th></th>\n",
                            "      <th>work_year</th>\n",
                            "      <th>experience_level</th>\n",
                            "      <th>employment_type</th>\n",
                            "      <th>job_title</th>\n",
                            "      <th>salary</th>\n",
                            "      <th>salary_currency</th>\n",
                            "      <th>salary_in_usd</th>\n",
                            "      <th>employee_residence</th>\n",
                            "      <th>remote_ratio</th>\n",
                            "      <th>company_location</th>\n",
                            "      <th>company_size</th>\n",
                            "    </tr>\n",
                            "  </thead>\n",
                            "  <tbody>\n",
                            "    <tr>\n",
                            "      <th>0</th>\n",
                            "      <td>2023</td>\n",
                            "      <td>SE</td>\n",
                            "      <td>FT</td>\n",
                            "      <td>Principal Data Scientist</td>\n",
                            "      <td>80000</td>\n",
                            "      <td>EUR</td>\n",
                            "      <td>85847</td>\n",
                            "      <td>ES</td>\n",
                            "      <td>100</td>\n",
                            "      <td>ES</td>\n",
                            "      <td>L</td>\n",
                            "    </tr>\n",
                            "    <tr>\n",
                            "      <th>1</th>\n",
                            "      <td>2023</td>\n",
                            "      <td>MI</td>\n",
                            "      <td>CT</td>\n",
                            "      <td>ML Engineer</td>\n",
                            "      <td>30000</td>\n",
                            "      <td>USD</td>\n",
                            "      <td>30000</td>\n",
                            "      <td>US</td>\n",
                            "      <td>100</td>\n",
                            "      <td>US</td>\n",
                            "      <td>S</td>\n",
                            "    </tr>\n",
                            "    <tr>\n",
                            "      <th>2</th>\n",
                            "      <td>2023</td>\n",
                            "      <td>MI</td>\n",
                            "      <td>CT</td>\n",
                            "      <td>ML Engineer</td>\n",
                            "      <td>25500</td>\n",
                            "      <td>USD</td>\n",
                            "      <td>25500</td>\n",
                            "      <td>US</td>\n",
                            "      <td>100</td>\n",
                            "      <td>US</td>\n",
                            "      <td>S</td>\n",
                            "    </tr>\n",
                            "    <tr>\n",
                            "      <th>3</th>\n",
                            "      <td>2023</td>\n",
                            "      <td>SE</td>\n",
                            "      <td>FT</td>\n",
                            "      <td>Data Scientist</td>\n",
                            "      <td>175000</td>\n",
                            "      <td>USD</td>\n",
                            "      <td>175000</td>\n",
                            "      <td>CA</td>\n",
                            "      <td>100</td>\n",
                            "      <td>CA</td>\n",
                            "      <td>M</td>\n",
                            "    </tr>\n",
                            "    <tr>\n",
                            "      <th>4</th>\n",
                            "      <td>2023</td>\n",
                            "      <td>SE</td>\n",
                            "      <td>FT</td>\n",
                            "      <td>Data Scientist</td>\n",
                            "      <td>120000</td>\n",
                            "      <td>USD</td>\n",
                            "      <td>120000</td>\n",
                            "      <td>CA</td>\n",
                            "      <td>100</td>\n",
                            "      <td>CA</td>\n",
                            "      <td>M</td>\n",
                            "    </tr>\n",
                            "    <tr>\n",
                            "      <th>...</th>\n",
                            "      <td>...</td>\n",
                            "      <td>...</td>\n",
                            "      <td>...</td>\n",
                            "      <td>...</td>\n",
                            "      <td>...</td>\n",
                            "      <td>...</td>\n",
                            "      <td>...</td>\n",
                            "      <td>...</td>\n",
                            "      <td>...</td>\n",
                            "      <td>...</td>\n",
                            "      <td>...</td>\n",
                            "    </tr>\n",
                            "    <tr>\n",
                            "      <th>3750</th>\n",
                            "      <td>2020</td>\n",
                            "      <td>SE</td>\n",
                            "      <td>FT</td>\n",
                            "      <td>Data Scientist</td>\n",
                            "      <td>412000</td>\n",
                            "      <td>USD</td>\n",
                            "      <td>412000</td>\n",
                            "      <td>US</td>\n",
                            "      <td>100</td>\n",
                            "      <td>US</td>\n",
                            "      <td>L</td>\n",
                            "    </tr>\n",
                            "    <tr>\n",
                            "      <th>3751</th>\n",
                            "      <td>2021</td>\n",
                            "      <td>MI</td>\n",
                            "      <td>FT</td>\n",
                            "      <td>Principal Data Scientist</td>\n",
                            "      <td>151000</td>\n",
                            "      <td>USD</td>\n",
                            "      <td>151000</td>\n",
                            "      <td>US</td>\n",
                            "      <td>100</td>\n",
                            "      <td>US</td>\n",
                            "      <td>L</td>\n",
                            "    </tr>\n",
                            "    <tr>\n",
                            "      <th>3752</th>\n",
                            "      <td>2020</td>\n",
                            "      <td>EN</td>\n",
                            "      <td>FT</td>\n",
                            "      <td>Data Scientist</td>\n",
                            "      <td>105000</td>\n",
                            "      <td>USD</td>\n",
                            "      <td>105000</td>\n",
                            "      <td>US</td>\n",
                            "      <td>100</td>\n",
                            "      <td>US</td>\n",
                            "      <td>S</td>\n",
                            "    </tr>\n",
                            "    <tr>\n",
                            "      <th>3753</th>\n",
                            "      <td>2020</td>\n",
                            "      <td>EN</td>\n",
                            "      <td>CT</td>\n",
                            "      <td>Business Data Analyst</td>\n",
                            "      <td>100000</td>\n",
                            "      <td>USD</td>\n",
                            "      <td>100000</td>\n",
                            "      <td>US</td>\n",
                            "      <td>100</td>\n",
                            "      <td>US</td>\n",
                            "      <td>L</td>\n",
                            "    </tr>\n",
                            "    <tr>\n",
                            "      <th>3754</th>\n",
                            "      <td>2021</td>\n",
                            "      <td>SE</td>\n",
                            "      <td>FT</td>\n",
                            "      <td>Data Science Manager</td>\n",
                            "      <td>7000000</td>\n",
                            "      <td>INR</td>\n",
                            "      <td>94665</td>\n",
                            "      <td>IN</td>\n",
                            "      <td>50</td>\n",
                            "      <td>IN</td>\n",
                            "      <td>L</td>\n",
                            "    </tr>\n",
                            "  </tbody>\n",
                            "</table>\n",
                            "<p>3755 rows × 11 columns</p>\n",
                            "</div>"
                        ],
                        "text/plain": [
                            "      work_year experience_level employment_type                 job_title  \\\n",
                            "0          2023               SE              FT  Principal Data Scientist   \n",
                            "1          2023               MI              CT               ML Engineer   \n",
                            "2          2023               MI              CT               ML Engineer   \n",
                            "3          2023               SE              FT            Data Scientist   \n",
                            "4          2023               SE              FT            Data Scientist   \n",
                            "...         ...              ...             ...                       ...   \n",
                            "3750       2020               SE              FT            Data Scientist   \n",
                            "3751       2021               MI              FT  Principal Data Scientist   \n",
                            "3752       2020               EN              FT            Data Scientist   \n",
                            "3753       2020               EN              CT     Business Data Analyst   \n",
                            "3754       2021               SE              FT      Data Science Manager   \n",
                            "\n",
                            "       salary salary_currency  salary_in_usd employee_residence  remote_ratio  \\\n",
                            "0       80000             EUR          85847                 ES           100   \n",
                            "1       30000             USD          30000                 US           100   \n",
                            "2       25500             USD          25500                 US           100   \n",
                            "3      175000             USD         175000                 CA           100   \n",
                            "4      120000             USD         120000                 CA           100   \n",
                            "...       ...             ...            ...                ...           ...   \n",
                            "3750   412000             USD         412000                 US           100   \n",
                            "3751   151000             USD         151000                 US           100   \n",
                            "3752   105000             USD         105000                 US           100   \n",
                            "3753   100000             USD         100000                 US           100   \n",
                            "3754  7000000             INR          94665                 IN            50   \n",
                            "\n",
                            "     company_location company_size  \n",
                            "0                  ES            L  \n",
                            "1                  US            S  \n",
                            "2                  US            S  \n",
                            "3                  CA            M  \n",
                            "4                  CA            M  \n",
                            "...               ...          ...  \n",
                            "3750               US            L  \n",
                            "3751               US            L  \n",
                            "3752               US            S  \n",
                            "3753               US            L  \n",
                            "3754               IN            L  \n",
                            "\n",
                            "[3755 rows x 11 columns]"
                        ]
                    },
                    "execution_count": 18,
                    "metadata": {},
                    "output_type": "execute_result"
                }
            ],
            "source": [
                "df"
            ]
        },
        {
            "cell_type": "code",
            "execution_count": 23,
            "metadata": {},
            "outputs": [
                {
                    "ename": "KeyError",
                    "evalue": "\"['salary', 'salary_currency'] not found in axis\"",
                    "output_type": "error",
                    "traceback": [
                        "\u001b[31m---------------------------------------------------------------------------\u001b[39m",
                        "\u001b[31mKeyError\u001b[39m                                  Traceback (most recent call last)",
                        "\u001b[36mCell\u001b[39m\u001b[36m \u001b[39m\u001b[32mIn[23]\u001b[39m\u001b[32m, line 1\u001b[39m\n\u001b[32m----> \u001b[39m\u001b[32m1\u001b[39m \u001b[43mdf\u001b[49m\u001b[43m.\u001b[49m\u001b[43mdrop\u001b[49m\u001b[43m(\u001b[49m\u001b[43m[\u001b[49m\u001b[33;43m'\u001b[39;49m\u001b[33;43msalary\u001b[39;49m\u001b[33;43m'\u001b[39;49m\u001b[43m,\u001b[49m\u001b[33;43m'\u001b[39;49m\u001b[33;43msalary_currency\u001b[39;49m\u001b[33;43m'\u001b[39;49m\u001b[43m]\u001b[49m\u001b[43m,\u001b[49m\u001b[43minplace\u001b[49m\u001b[43m=\u001b[49m\u001b[38;5;28;43;01mTrue\u001b[39;49;00m\u001b[43m,\u001b[49m\u001b[43m \u001b[49m\u001b[43maxis\u001b[49m\u001b[43m \u001b[49m\u001b[43m=\u001b[49m\u001b[43m \u001b[49m\u001b[32;43m1\u001b[39;49m\u001b[43m)\u001b[49m\n",
                        "\u001b[36mFile \u001b[39m\u001b[32m~/.local/lib/python3.11/site-packages/pandas/core/frame.py:5581\u001b[39m, in \u001b[36mDataFrame.drop\u001b[39m\u001b[34m(self, labels, axis, index, columns, level, inplace, errors)\u001b[39m\n\u001b[32m   5433\u001b[39m \u001b[38;5;28;01mdef\u001b[39;00m\u001b[38;5;250m \u001b[39m\u001b[34mdrop\u001b[39m(\n\u001b[32m   5434\u001b[39m     \u001b[38;5;28mself\u001b[39m,\n\u001b[32m   5435\u001b[39m     labels: IndexLabel | \u001b[38;5;28;01mNone\u001b[39;00m = \u001b[38;5;28;01mNone\u001b[39;00m,\n\u001b[32m   (...)\u001b[39m\u001b[32m   5442\u001b[39m     errors: IgnoreRaise = \u001b[33m\"\u001b[39m\u001b[33mraise\u001b[39m\u001b[33m\"\u001b[39m,\n\u001b[32m   5443\u001b[39m ) -> DataFrame | \u001b[38;5;28;01mNone\u001b[39;00m:\n\u001b[32m   5444\u001b[39m \u001b[38;5;250m    \u001b[39m\u001b[33;03m\"\"\"\u001b[39;00m\n\u001b[32m   5445\u001b[39m \u001b[33;03m    Drop specified labels from rows or columns.\u001b[39;00m\n\u001b[32m   5446\u001b[39m \n\u001b[32m   (...)\u001b[39m\u001b[32m   5579\u001b[39m \u001b[33;03m            weight  1.0     0.8\u001b[39;00m\n\u001b[32m   5580\u001b[39m \u001b[33;03m    \"\"\"\u001b[39;00m\n\u001b[32m-> \u001b[39m\u001b[32m5581\u001b[39m     \u001b[38;5;28;01mreturn\u001b[39;00m \u001b[38;5;28;43msuper\u001b[39;49m\u001b[43m(\u001b[49m\u001b[43m)\u001b[49m\u001b[43m.\u001b[49m\u001b[43mdrop\u001b[49m\u001b[43m(\u001b[49m\n\u001b[32m   5582\u001b[39m \u001b[43m        \u001b[49m\u001b[43mlabels\u001b[49m\u001b[43m=\u001b[49m\u001b[43mlabels\u001b[49m\u001b[43m,\u001b[49m\n\u001b[32m   5583\u001b[39m \u001b[43m        \u001b[49m\u001b[43maxis\u001b[49m\u001b[43m=\u001b[49m\u001b[43maxis\u001b[49m\u001b[43m,\u001b[49m\n\u001b[32m   5584\u001b[39m \u001b[43m        \u001b[49m\u001b[43mindex\u001b[49m\u001b[43m=\u001b[49m\u001b[43mindex\u001b[49m\u001b[43m,\u001b[49m\n\u001b[32m   5585\u001b[39m \u001b[43m        \u001b[49m\u001b[43mcolumns\u001b[49m\u001b[43m=\u001b[49m\u001b[43mcolumns\u001b[49m\u001b[43m,\u001b[49m\n\u001b[32m   5586\u001b[39m \u001b[43m        \u001b[49m\u001b[43mlevel\u001b[49m\u001b[43m=\u001b[49m\u001b[43mlevel\u001b[49m\u001b[43m,\u001b[49m\n\u001b[32m   5587\u001b[39m \u001b[43m        \u001b[49m\u001b[43minplace\u001b[49m\u001b[43m=\u001b[49m\u001b[43minplace\u001b[49m\u001b[43m,\u001b[49m\n\u001b[32m   5588\u001b[39m \u001b[43m        \u001b[49m\u001b[43merrors\u001b[49m\u001b[43m=\u001b[49m\u001b[43merrors\u001b[49m\u001b[43m,\u001b[49m\n\u001b[32m   5589\u001b[39m \u001b[43m    \u001b[49m\u001b[43m)\u001b[49m\n",
                        "\u001b[36mFile \u001b[39m\u001b[32m~/.local/lib/python3.11/site-packages/pandas/core/generic.py:4788\u001b[39m, in \u001b[36mNDFrame.drop\u001b[39m\u001b[34m(self, labels, axis, index, columns, level, inplace, errors)\u001b[39m\n\u001b[32m   4786\u001b[39m \u001b[38;5;28;01mfor\u001b[39;00m axis, labels \u001b[38;5;129;01min\u001b[39;00m axes.items():\n\u001b[32m   4787\u001b[39m     \u001b[38;5;28;01mif\u001b[39;00m labels \u001b[38;5;129;01mis\u001b[39;00m \u001b[38;5;129;01mnot\u001b[39;00m \u001b[38;5;28;01mNone\u001b[39;00m:\n\u001b[32m-> \u001b[39m\u001b[32m4788\u001b[39m         obj = \u001b[43mobj\u001b[49m\u001b[43m.\u001b[49m\u001b[43m_drop_axis\u001b[49m\u001b[43m(\u001b[49m\u001b[43mlabels\u001b[49m\u001b[43m,\u001b[49m\u001b[43m \u001b[49m\u001b[43maxis\u001b[49m\u001b[43m,\u001b[49m\u001b[43m \u001b[49m\u001b[43mlevel\u001b[49m\u001b[43m=\u001b[49m\u001b[43mlevel\u001b[49m\u001b[43m,\u001b[49m\u001b[43m \u001b[49m\u001b[43merrors\u001b[49m\u001b[43m=\u001b[49m\u001b[43merrors\u001b[49m\u001b[43m)\u001b[49m\n\u001b[32m   4790\u001b[39m \u001b[38;5;28;01mif\u001b[39;00m inplace:\n\u001b[32m   4791\u001b[39m     \u001b[38;5;28mself\u001b[39m._update_inplace(obj)\n",
                        "\u001b[36mFile \u001b[39m\u001b[32m~/.local/lib/python3.11/site-packages/pandas/core/generic.py:4830\u001b[39m, in \u001b[36mNDFrame._drop_axis\u001b[39m\u001b[34m(self, labels, axis, level, errors, only_slice)\u001b[39m\n\u001b[32m   4828\u001b[39m         new_axis = axis.drop(labels, level=level, errors=errors)\n\u001b[32m   4829\u001b[39m     \u001b[38;5;28;01melse\u001b[39;00m:\n\u001b[32m-> \u001b[39m\u001b[32m4830\u001b[39m         new_axis = \u001b[43maxis\u001b[49m\u001b[43m.\u001b[49m\u001b[43mdrop\u001b[49m\u001b[43m(\u001b[49m\u001b[43mlabels\u001b[49m\u001b[43m,\u001b[49m\u001b[43m \u001b[49m\u001b[43merrors\u001b[49m\u001b[43m=\u001b[49m\u001b[43merrors\u001b[49m\u001b[43m)\u001b[49m\n\u001b[32m   4831\u001b[39m     indexer = axis.get_indexer(new_axis)\n\u001b[32m   4833\u001b[39m \u001b[38;5;66;03m# Case for non-unique axis\u001b[39;00m\n\u001b[32m   4834\u001b[39m \u001b[38;5;28;01melse\u001b[39;00m:\n",
                        "\u001b[36mFile \u001b[39m\u001b[32m~/.local/lib/python3.11/site-packages/pandas/core/indexes/base.py:7070\u001b[39m, in \u001b[36mIndex.drop\u001b[39m\u001b[34m(self, labels, errors)\u001b[39m\n\u001b[32m   7068\u001b[39m \u001b[38;5;28;01mif\u001b[39;00m mask.any():\n\u001b[32m   7069\u001b[39m     \u001b[38;5;28;01mif\u001b[39;00m errors != \u001b[33m\"\u001b[39m\u001b[33mignore\u001b[39m\u001b[33m\"\u001b[39m:\n\u001b[32m-> \u001b[39m\u001b[32m7070\u001b[39m         \u001b[38;5;28;01mraise\u001b[39;00m \u001b[38;5;167;01mKeyError\u001b[39;00m(\u001b[33mf\u001b[39m\u001b[33m\"\u001b[39m\u001b[38;5;132;01m{\u001b[39;00mlabels[mask].tolist()\u001b[38;5;132;01m}\u001b[39;00m\u001b[33m not found in axis\u001b[39m\u001b[33m\"\u001b[39m)\n\u001b[32m   7071\u001b[39m     indexer = indexer[~mask]\n\u001b[32m   7072\u001b[39m \u001b[38;5;28;01mreturn\u001b[39;00m \u001b[38;5;28mself\u001b[39m.delete(indexer)\n",
                        "\u001b[31mKeyError\u001b[39m: \"['salary', 'salary_currency'] not found in axis\""
                    ]
                }
            ],
            "source": [
                "df.drop(['salary','salary_currency'],inplace=True, axis = 1)"
            ]
        },
        {
            "cell_type": "code",
            "execution_count": null,
            "metadata": {},
            "outputs": [],
            "source": [
                "df"
            ]
        },
        {
            "cell_type": "code",
            "execution_count": null,
            "metadata": {},
            "outputs": [],
            "source": [
                "df.experience_level.unique()"
            ]
        },
        {
            "cell_type": "code",
            "execution_count": null,
            "metadata": {},
            "outputs": [],
            "source": [
                "import matplotlib.pyplot as plt\n",
                "\n",
                "plt.figure(figsize=(10,12))\n",
                "\n",
                "plt.bar(x=df.experience_level,height=df.salary_in_usd)\n",
                "\n",
                "plt.show()"
            ]
        },
        {
            "cell_type": "code",
            "execution_count": null,
            "metadata": {},
            "outputs": [],
            "source": [
                "df.groupby('experience_level')['salary_in_usd'].mean().plot.bar()"
            ]
        },
        {
            "cell_type": "code",
            "execution_count": null,
            "metadata": {},
            "outputs": [],
            "source": [
                "df[df.experience_level == 'EN'].describe()"
            ]
        },
        {
            "cell_type": "code",
            "execution_count": null,
            "metadata": {},
            "outputs": [],
            "source": [
                "dic = {\n",
                "    'EN':0,\n",
                "    'MI':1,\n",
                "    'SE':2,\n",
                "    'EX':3\n",
                "}"
            ]
        },
        {
            "cell_type": "code",
            "execution_count": null,
            "metadata": {},
            "outputs": [],
            "source": [
                "df[\"experience_level\"].replace(dic, inplace=True)"
            ]
        },
        {
            "cell_type": "code",
            "execution_count": null,
            "metadata": {},
            "outputs": [],
            "source": [
                "df"
            ]
        },
        {
            "cell_type": "code",
            "execution_count": null,
            "metadata": {},
            "outputs": [],
            "source": [
                "df['employment_type'].unique()"
            ]
        },
        {
            "cell_type": "code",
            "execution_count": null,
            "metadata": {},
            "outputs": [],
            "source": [
                "df.groupby('employment_type')['salary_in_usd'].mean().plot.bar()"
            ]
        },
        {
            "cell_type": "code",
            "execution_count": null,
            "metadata": {},
            "outputs": [],
            "source": [
                "dic_et = {'PT':0,'FL':1,'CT':2,'FT':3}"
            ]
        },
        {
            "cell_type": "code",
            "execution_count": null,
            "metadata": {},
            "outputs": [],
            "source": [
                "df['company_size'].unique()"
            ]
        },
        {
            "cell_type": "code",
            "execution_count": null,
            "metadata": {},
            "outputs": [],
            "source": [
                "df.groupby('company_size')['salary_in_usd'].mean().plot.bar()"
            ]
        },
        {
            "cell_type": "code",
            "execution_count": null,
            "metadata": {},
            "outputs": [],
            "source": [
                "dic_cs = {'S':0,'L':1,'M':2}"
            ]
        },
        {
            "cell_type": "code",
            "execution_count": null,
            "metadata": {},
            "outputs": [],
            "source": [
                "df[\"employment_type\"].replace(dic_et, inplace=True)\n",
                "df[\"company_size\"].replace(dic_cs, inplace=True)\n",
                "df"
            ]
        },
        {
            "cell_type": "code",
            "execution_count": null,
            "metadata": {},
            "outputs": [],
            "source": [
                "df.groupby('job_title')['salary_in_usd'].mean().plot.bar()"
            ]
        },
        {
            "cell_type": "code",
            "execution_count": null,
            "metadata": {},
            "outputs": [],
            "source": [
                "df.drop(['job_title'],axis=1,inplace=True)"
            ]
        },
        {
            "cell_type": "code",
            "execution_count": null,
            "metadata": {},
            "outputs": [],
            "source": [
                "df.groupby('employee_residence')['salary_in_usd'].mean().plot.bar()"
            ]
        },
        {
            "cell_type": "code",
            "execution_count": null,
            "metadata": {},
            "outputs": [],
            "source": [
                "df['employee_residence_num'], unique_values = pd.factorize(df['employee_residence'])"
            ]
        },
        {
            "cell_type": "code",
            "execution_count": null,
            "metadata": {},
            "outputs": [],
            "source": [
                "df"
            ]
        },
        {
            "cell_type": "code",
            "execution_count": null,
            "metadata": {},
            "outputs": [],
            "source": [
                "unique_values"
            ]
        },
        {
            "cell_type": "code",
            "execution_count": null,
            "metadata": {},
            "outputs": [],
            "source": [
                "dic_er = dict(enumerate(unique_values))"
            ]
        },
        {
            "cell_type": "code",
            "execution_count": null,
            "metadata": {},
            "outputs": [],
            "source": [
                "dic_er"
            ]
        },
        {
            "cell_type": "code",
            "execution_count": null,
            "metadata": {},
            "outputs": [],
            "source": [
                "dic_er = {valor:codigo for codigo, valor in dic_er.items()}\n",
                "dic_er"
            ]
        },
        {
            "cell_type": "code",
            "execution_count": null,
            "metadata": {},
            "outputs": [],
            "source": [
                "df['company_location_num'], unique_values = pd.factorize(df['company_location'])\n",
                "dic_cl = dict(enumerate(unique_values))\n",
                "dic_cl = {valor:codigo for codigo, valor in dic_cl.items()}\n",
                "dic_cl"
            ]
        },
        {
            "cell_type": "code",
            "execution_count": null,
            "metadata": {},
            "outputs": [],
            "source": [
                "df"
            ]
        },
        {
            "cell_type": "code",
            "execution_count": null,
            "metadata": {},
            "outputs": [],
            "source": [
                "df.drop(['company_location','employee_residence'],axis=1,inplace=True)"
            ]
        },
        {
            "cell_type": "code",
            "execution_count": null,
            "metadata": {},
            "outputs": [],
            "source": [
                "df"
            ]
        },
        {
            "cell_type": "code",
            "execution_count": null,
            "metadata": {},
            "outputs": [],
            "source": [
                "X = df.drop(['salary_in_usd'],axis=1)\n",
                "y = df['salary_in_usd']\n",
                "\n",
                "from sklearn.model_selection import train_test_split\n",
                "\n",
                "X_train, X_test, y_train, y_test = train_test_split(X,y,test_size=0.2,random_state=42)\n",
                "\n",
                "X_train"
            ]
        },
        {
            "cell_type": "code",
            "execution_count": null,
            "metadata": {},
            "outputs": [],
            "source": [
                "from sklearn.ensemble import RandomForestRegressor\n",
                "from xgboost import XGBRegressor\n",
                "\n",
                "model1 = RandomForestRegressor(random_state=42)\n",
                "model2 = XGBRegressor()\n",
                "\n",
                "model1.fit(X_train, y_train)\n",
                "model2.fit(X_train, y_train)\n",
                "\n",
                "y_pred1 = model1.predict(X_test)\n",
                "y_pred2 = model2.predict(X_test)\n",
                "\n",
                "from sklearn.metrics import root_mean_squared_error\n",
                "from sklearn.metrics import r2_score\n",
                "\n",
                "print(f'rmse modelo 1: {root_mean_squared_error(y_test,y_pred1)} r2: {r2_score(y_test,y_pred1)}')\n",
                "print(f'rmse modelo 2: {root_mean_squared_error(y_test,y_pred2)} r2: {r2_score(y_test,y_pred2)}')"
            ]
        },
        {
            "cell_type": "code",
            "execution_count": null,
            "metadata": {},
            "outputs": [],
            "source": [
                "params = {\n",
                "\t'max_depth': [3, 4, 5],\n",
                "\t'learning_rate': [0.01, 0.1, 0.2],\n",
                "\t'n_estimators': [20, 50, 100, 200, 300]\n",
                "}\n",
                "from sklearn.model_selection import GridSearchCV\n",
                "\n",
                "grid = GridSearchCV(model2, params, scoring='neg_mean_squared_error', cv=5, n_jobs=2)\n",
                "grid.fit(X_train, y_train)\n",
                "\n",
                "print(grid.best_params_)\n",
                "print(grid.best_estimator_)\n",
                "\n",
                "best_model = grid.best_estimator_\n",
                "root_mean_squared_error(y_test,best_model.predict(X_test))"
            ]
        },
        {
            "cell_type": "code",
            "execution_count": null,
            "metadata": {},
            "outputs": [],
            "source": [
                "best_model.save_model('../models/xgboost_optimizado.json')"
            ]
        },
        {
            "cell_type": "code",
            "execution_count": null,
            "metadata": {},
            "outputs": [],
            "source": [
                "import json\n",
                "\n",
                "with open('../data/processed/dic_cl.json','w', encoding='utf-8') as archivo:\n",
                "    json.dump(dic_cl,archivo,ensure_ascii=False,indent=4)#company_location\n",
                "with open('../data/processed/dic_el.json','w', encoding='utf-8') as archivo:\n",
                "    json.dump(dic,archivo,ensure_ascii=False,indent=4)#experience_level\n",
                "with open('../data/processed/dic_et.json','w', encoding='utf-8') as archivo:\n",
                "    json.dump(dic_et,archivo,ensure_ascii=False,indent=4)#employment_type\n",
                "with open('../data/processed/dic_er.json','w', encoding='utf-8') as archivo:\n",
                "    json.dump(dic_er,archivo,ensure_ascii=False,indent=4)#employee_residence\n",
                "with open('../data/processed/dic_cs.json','w', encoding='utf-8') as archivo:\n",
                "    json.dump(dic_cs,archivo,ensure_ascii=False,indent=4) #company_size"
            ]
        },
        {
            "cell_type": "code",
            "execution_count": null,
            "metadata": {},
            "outputs": [],
            "source": [
                "X_train.columns"
            ]
        }
    ],
    "metadata": {
        "kernelspec": {
            "display_name": "Python 3",
            "language": "python",
            "name": "python3"
        },
        "language_info": {
            "codemirror_mode": {
                "name": "ipython",
                "version": 3
            },
            "file_extension": ".py",
            "mimetype": "text/x-python",
            "name": "python",
            "nbconvert_exporter": "python",
            "pygments_lexer": "ipython3",
            "version": "3.11.4"
        },
        "orig_nbformat": 4
    },
    "nbformat": 4,
    "nbformat_minor": 2
}
